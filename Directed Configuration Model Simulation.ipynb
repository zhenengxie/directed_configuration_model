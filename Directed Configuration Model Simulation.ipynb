{
 "cells": [
  {
   "cell_type": "markdown",
   "metadata": {},
   "source": [
    "# Directed Configuration Model Simulation"
   ]
  },
  {
   "cell_type": "code",
   "execution_count": 5,
   "metadata": {},
   "outputs": [],
   "source": [
    "# Importing libraries\n",
    "\n",
    "import networkx as nx\n",
    "import numpy as np\n",
    "import matplotlib.pyplot as plt"
   ]
  },
  {
   "cell_type": "markdown",
   "metadata": {},
   "source": [
    "We consider simulating the directed configuration model. Firstly we describe the procedure for sampling the degrees. Suppose $(D^-, D^+)$ a $\\mathbb N \\times \\mathbb N$ valued random variable\n",
    "\n",
    "1. Sample a sequence $(D^-_1, D^+_1), \\ldots, (D^-_n, D^+_n)$ of i.i.d. copies of $(D^-, D^+)$\n",
    "2. Compute\n",
    "$$ \\Delta_n = \\sum_{i=1}^n (D^-_i - D^+_i) $$\n",
    "3. Repeat steps 1 and 2 until\n",
    "$$ \\lvert \\Delta_n \\rvert \\leq n^{1 - \\kappa + \\delta}$$\n",
    "4. Random sample indices $\\{i_1, i_2, \\ldots, i_{\\lvert \\Delta_n \\rvert} \\}$ without replacement\n",
    "5. If $\\Delta_n > 0$ then increment $D^+_{i_j}$ by 1 for $j = 1, \\ldots, \\lvert \\Delta_n \\rvert$, otherwise increment by $D^-_{i_j}$ for $j = 1, \\ldots, \\lvert \\Delta_n \\rvert$"
   ]
  },
  {
   "cell_type": "code",
   "execution_count": 6,
   "metadata": {},
   "outputs": [],
   "source": [
    "def sample_degree_sequence(in_out_degrees, n, kappa = 1/2, delta = 1/10, require_graphical = False):\n",
    "    \"\"\"\n",
    "    Given a sampler for i.i.d. in and out degrees, this generates a degree sequence of length n\n",
    "    such that the total in and out degree is equal.\n",
    "    \n",
    "    Parameters:\n",
    "    in_out_degrees (function): A function which takes n and returns a length n in-degree array\n",
    "                               and a length n out-degree array \n",
    "    (int): The length of the degree sequence to sample    \n",
    "    kappa (float): A constant relating to how many moments the degree distribution has\n",
    "    delta (float): A tolerance parameter\n",
    "    require_graphical (boolean): If true then the sequence is repeatedly sampled until it is graphical\n",
    "    \n",
    "    Returns:\n",
    "    in_degrees (numpy array): A in-degree array of length n\n",
    "    out_degrees: A out-degree array of length n\n",
    "    \"\"\"\n",
    "    \n",
    "    repeat_till_graphical = True\n",
    "    \n",
    "    while repeat_till_graphical:\n",
    "    \n",
    "        almost_balanced = False\n",
    "\n",
    "        while not almost_balanced:\n",
    "            in_degrees, out_degrees = in_out_degrees(n)\n",
    "\n",
    "            degree_difference = np.sum(in_degrees - out_degrees)\n",
    "\n",
    "            almost_balanced = (np.abs(degree_difference) <= np.power(n, 1 - kappa + delta))\n",
    "\n",
    "        fill_indices = np.random.choice(n, np.abs(degree_difference), replace=False)\n",
    "\n",
    "        for i in fill_indices:\n",
    "            if degree_difference >= 0:\n",
    "                out_degrees[i] += 1\n",
    "            else:\n",
    "                in_degrees[i] += 1\n",
    "                \n",
    "        repeat_till_graphical = require_graphical and not nx.is_digraphical(in_degrees, out_degrees)\n",
    "            \n",
    "    return in_degrees, out_degrees"
   ]
  },
  {
   "cell_type": "markdown",
   "metadata": {},
   "source": [
    "The networkX package provides the function for generating the directed configuration model given a degree sequence. This is obtained by uniformly pairing off the in and out half edges. There are then two approaches to getting a simple graph. The first is the repeated DCM. In this method we just repeat the procedure until the resulting graph is simple. Mathematically this has the effect of conditioning that the pairing gives a simple graph.\n",
    "\n",
    "Not all degree sequences can generate a simple graph though, we call the ones that do graphical. A necessary and sufficient condition for a degree sequence to be graphical is\n",
    "\n",
    "1. $\\sum_{i=1}^n D^-_i = \\sum_{i=1}^n D^+_i$,\n",
    "2. and $\\sum_{i=1}^n \\min\\{D^+_i, \\lvert A - \\{v_i\\} \\rvert\\} \\geq \\sum_{v_i \\in A} D^-_i$ for any $A \\subset V$.\n",
    "\n",
    "The second approach is to just erase all loops and collapse all multi-edges. This will alter the degree sequence but is algorithmically very efficient."
   ]
  },
  {
   "cell_type": "code",
   "execution_count": 5,
   "metadata": {},
   "outputs": [],
   "source": [
    "def repeated_dcm(degree_sequence):\n",
    "    \"\"\"\n",
    "    Generates a multigraph by repeating the repeatedly sampling a DCM until the graph is simple\n",
    "    \"\"\"\n",
    "    \n",
    "    # checking if sequence is graphical\n",
    "    if not nx.is_digraphical(in_degrees, out_degrees):\n",
    "        raise InputError(\"Running repeated DCM with a non-graphical sequence\")\n",
    "    \n",
    "    is_simple = False\n",
    "    \n",
    "    while not is_simple:\n",
    "        G =  nx.directed_configuration_model(in_degrees, out_degrees)\n",
    "        is_simple\n",
    "        \n",
    "    return G\n",
    "\n",
    "def erased_dcm(degree_sequence):\n",
    "    \"\"\"\n",
    "    Generates a multigraph by sampling a DCM and collapsing multiedges and removing loops\n",
    "    \"\"\"\n",
    "    \n",
    "    G = nx.directed_configuration_model(in_degrees, out_degrees)\n",
    "    \n",
    "    G = nx.DiGraph(D) # collapsing multiedges\n",
    "    G.removed_edges_from(nx.selfloop_edges(G)) # removing loops\n",
    "    \n",
    "    return G"
   ]
  },
  {
   "cell_type": "markdown",
   "metadata": {},
   "source": [
    "We define three ways of sampling the in and out degrees.\n",
    "\n",
    "In the first method the in and out degrees are independent $\\text{Po}(1)$ random variables\n",
    "\n",
    "In the second method the in and out degrees are positively correlated. We sample $X \\sim $ and then take $D^- \\sim$ and $D^+ \\sim $.\n",
    "\n",
    "In the third method, the in and out degrees are negatively correlated."
   ]
  },
  {
   "cell_type": "code",
   "execution_count": 79,
   "metadata": {},
   "outputs": [
    {
     "name": "stdout",
     "output_type": "stream",
     "text": [
      "[7, 10, 1, 1, 9, 17, 8, 9, 1, 7, 7, 17, 5, 30, 4, 18, 5, 9, 1, 38, 9, 1, 32, 1, 12, 20, 47, 25, 1, 5, 13, 3, 12, 5, 5, 1, 2, 1, 1, 32, 21, 8, 2, 1, 12, 8, 25, 42, 12, 33, 9, 27, 18, 5, 9, 7, 1, 12, 10, 51, 5, 20, 1, 8, 2, 5, 35, 53, 1, 3, 4, 19, 3, 5, 3, 9, 31, 97, 9, 13, 6, 10, 1, 10, 13, 6, 1, 16, 27, 28, 6, 12, 6, 6, 71, 19, 23, 3, 6, 14]\n",
      "[4, 2, 9, 6, 9, 8, 2, 3, 10, 10, 1, 5, 6, 9, 2, 5, 3, 1, 8, 1, 4, 19, 11, 12, 3, 2, 10, 5, 2, 1, 11, 4, 1, 14, 10, 6, 6, 31, 3, 35, 1, 1, 1, 1, 5, 2, 17, 8, 16, 3, 6, 2, 25, 4, 7, 4, 4, 5, 5, 3, 13, 1, 23, 6, 18, 1, 9, 3, 5, 1, 11, 4, 6, 4, 5, 1, 7, 1, 10, 9, 7, 10, 24, 4, 3, 2, 3, 1, 4, 4, 1, 1, 4, 1, 1, 5, 3, 3, 5, 1]\n",
      "[31, 5, 3, 5, 3, 15, 13, 6, 3, 6, 14, 16, 11, 27, 20, 1, 1, 3, 1, 2, 9, 7, 1, 3, 18, 7, 8, 4, 1, 14, 6, 41, 4, 8, 5, 3, 20, 21, 27, 7, 7, 13, 2, 7, 29, 6, 8, 16, 21, 23, 48, 19, 7, 16, 2, 6, 12, 1, 16, 14, 8, 5, 1, 8, 5, 4, 6, 3, 3, 4, 9, 1, 5, 3, 1, 9, 14, 55, 1, 17, 8, 29, 1, 1, 39, 4, 1, 5, 1, 1, 6, 8, 16, 11, 2, 10, 1, 9, 16, 18]\n"
     ]
    },
    {
     "data": {
      "image/png": "[encoded data removed]",
      "text/plain": [
       "<Figure size 576x1080 with 3 Axes>"
      ]
     },
     "metadata": {
      "needs_background": "light"
     },
     "output_type": "display_data"
    }
   ],
   "source": [
    "def poisson_indep(n):\n",
    "    rate = 1\n",
    "    return np.random.poisson(rate, n), np.random.poisson(rate, n)\n",
    "\n",
    "def poisson_positive_corr(n):\n",
    "    rate = np.random.exponential(1/2, n)\n",
    "    return np.random.poisson(rate), np.random.poisson(rate)\n",
    "\n",
    "def poisson_negative_corr(n):\n",
    "    m = 3\n",
    "    c = np.random.random(n) * m\n",
    "    \n",
    "    return np.random.poisson(c), np.random.poisson(m-c)\n",
    "    \n",
    "def directed_gnp(n):\n",
    "    p = 1/n\n",
    "    forward_graph = nx.fast_gnp_random_graph(n, p)\n",
    "    backward_graph = nx.fast_gnp_random_graph(n, p)\n",
    "    \n",
    "    G = nx.DiGraph()\n",
    "    \n",
    "    for (v, w) in forward_graph.edges:\n",
    "        [x, y] = sorted([v, w])\n",
    "        G.add_edge(x, y)\n",
    "        \n",
    "    for (v, w) in backward_graph.edges:\n",
    "        [y, x] = sorted([v, w])\n",
    "        G.add_edge(x, y)\n",
    "        \n",
    "    return G\n",
    "\n",
    "# parameters\n",
    "\n",
    "tries = 100\n",
    "n = 1000\n",
    "degree_generator_list = [poisson_indep, poisson_positive_corr, poisson_negative_corr]\n",
    "\n",
    "# sampling the configuration mode\n",
    "\n",
    "fig, [ax1, ax2, ax3] = plt.subplots(3, 1, figsize=(8, 15))\n",
    "\n",
    "for degree_generator, ax in zip(degree_generator_list, [ax1, ax2, ax3]):\n",
    "    largest_component_sizes = []\n",
    "\n",
    "    for _ in range(tries):\n",
    "        in_degrees, out_degrees = sample_degree_sequence(degree_generator, n)\n",
    "        G = nx.directed_configuration_model(in_degrees, out_degrees)\n",
    "        #G = directed_gnp(n)\n",
    "\n",
    "        # finding the largest scc\n",
    "\n",
    "        scc_list = nx.strongly_connected_components(G)\n",
    "        largest_component_sizes.append(max(len(component) for component in scc_list))\n",
    "    \n",
    "    ax.hist(largest_component_sizes, bins=range(max(largest_component_sizes)))"
   ]
  },
  {
   "cell_type": "markdown",
   "metadata": {},
   "source": [
    "Next, we plot a histogram for the degrees of the largest scc of m samples of the DCM."
   ]
  },
  {
   "cell_type": "code",
   "execution_count": 90,
   "metadata": {},
   "outputs": [
    {
     "data": {
      "image/png": "[encoded data removed]",
      "text/plain": [
       "<Figure size 432x288 with 1 Axes>"
      ]
     },
     "metadata": {},
     "output_type": "display_data"
    }
   ],
   "source": [
    "n = 1000000\n",
    "\n",
    "degree_generator = poisson_positive_corr\n",
    "\n",
    "in_degrees, out_degrees = sample_degree_sequence(degree_generator, n)\n",
    "G = nx.directed_configuration_model(in_degrees, out_degrees)\n",
    "\n",
    "# finding the largest scc\n",
    "\n",
    "scc_list = nx.strongly_connected_components(G)\n",
    "vertices = max(scc_list, key=len)\n",
    "\n",
    "nx.draw_kamada_kawai(G.subgraph(vertices), node_size=100)"
   ]
  }
 ],
 "metadata": {
  "kernelspec": {
   "display_name": "Python 3",
   "language": "python",
   "name": "python3"
  },
  "language_info": {
   "codemirror_mode": {
    "name": "ipython",
    "version": 3
   },
   "file_extension": ".py",
   "mimetype": "text/x-python",
   "name": "python",
   "nbconvert_exporter": "python",
   "pygments_lexer": "ipython3",
   "version": "3.8.3"
  }
 },
 "nbformat": 4,
 "nbformat_minor": 4
}
