{
 "cells": [
  {
   "cell_type": "markdown",
   "metadata": {},
   "source": [
    "# Directed Configuration Model Simulation"
   ]
  },
  {
   "cell_type": "code",
   "execution_count": null,
   "metadata": {},
   "outputs": [],
   "source": [
    "# Importing libraries\n",
    "\n",
    "import networkx as nx\n",
    "import numpy as np\n",
    "import matplotlib.pyplot as plt"
   ]
  },
  {
   "cell_type": "markdown",
   "metadata": {},
   "source": [
    "We consider simulating the directed configuration model. Firstly we describe the procedure for sampling the degrees. Suppose $(D^-, D^+)$ a $\\mathbb N \\times \\mathbb N$ valued random variable\n",
    "\n",
    "1. Sample a sequence $(D^-_1, D^+_1), \\ldots, (D^-_n, D^+_n)$ of i.i.d. copies of $(D^-, D^+)$\n",
    "2. Compute\n",
    "$$ \\Delta_n = \\sum_{i=1}^n (D^-_i - D^+_i) $$\n",
    "3. Repeat steps 1 and 2 until\n",
    "$$ \\lvert \\Delta_n \\rvert \\leq n^{1 - \\kappa + \\delta}$$\n",
    "4. Random sample indices $\\{i_1, i_2, \\ldots, i_{\\lvert \\Delta_n \\rvert} \\}$ without replacement\n",
    "5. If $\\Delta_n > 0$ then increment $D^+_{i_j}$ by 1 for $j = 1, \\ldots, \\lvert \\Delta_n \\rvert$, otherwise increment by $D^-_{i_j}$ for $j = 1, \\ldots, \\lvert \\Delta_n \\rvert$"
   ]
  },
  {
   "cell_type": "code",
   "execution_count": null,
   "metadata": {},
   "outputs": [],
   "source": [
    "def sample_degree_sequence(in_out_degrees, n, kappa = 1/2, delta = 1/4):\n",
    "    \"\"\"\n",
    "    in_out_degrees is a function which takes n and returns a list of n i.i.d. N^2 valued random tuples\n",
    "    \n",
    "    n is the length of the degree sequence to sample\n",
    "    \n",
    "    kappa \n",
    "    \n",
    "    delta is the tolerance, a degree sequence is accepted if the total difference\n",
    "    between in and out degrees differs by n^delta\n",
    "    \"\"\""
   ]
  },
  {
   "cell_type": "markdown",
   "metadata": {},
   "source": [
    "We now write a function for generating the directed configuration model given a degree sequence. This is obtained by uniformly pairing off the in and out half edges."
   ]
  },
  {
   "cell_type": "code",
   "execution_count": null,
   "metadata": {},
   "outputs": [],
   "source": [
    "def dcm(degree_sequence):\n",
    "    "
   ]
  }
 ],
 "metadata": {
  "kernelspec": {
   "display_name": "Python 3",
   "language": "python",
   "name": "python3"
  },
  "language_info": {
   "codemirror_mode": {
    "name": "ipython",
    "version": 3
   },
   "file_extension": ".py",
   "mimetype": "text/x-python",
   "name": "python",
   "nbconvert_exporter": "python",
   "pygments_lexer": "ipython3",
   "version": "3.8.3"
  }
 },
 "nbformat": 4,
 "nbformat_minor": 4
}
