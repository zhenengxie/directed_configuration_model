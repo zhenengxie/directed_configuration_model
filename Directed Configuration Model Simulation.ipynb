{
 "cells": [
  {
   "cell_type": "markdown",
   "metadata": {},
   "source": [
    "# Directed Configuration Model Simulation"
   ]
  },
  {
   "cell_type": "code",
   "execution_count": 1,
   "metadata": {},
   "outputs": [],
   "source": [
    "# Importing libraries\n",
    "\n",
    "import networkx as nx\n",
    "import numpy as np\n",
    "import matplotlib.pyplot as plt"
   ]
  },
  {
   "cell_type": "markdown",
   "metadata": {},
   "source": [
    "We consider simulating the directed configuration model. Firstly we describe the procedure for sampling the degrees. Suppose $(D^-, D^+)$ a $\\mathbb N \\times \\mathbb N$ valued random variable\n",
    "\n",
    "1. Sample a sequence $(D^-_1, D^+_1), \\ldots, (D^-_n, D^+_n)$ of i.i.d. copies of $(D^-, D^+)$\n",
    "2. Compute\n",
    "$$ \\Delta_n = \\sum_{i=1}^n (D^-_i - D^+_i) $$\n",
    "3. Repeat steps 1 and 2 until\n",
    "$$ \\lvert \\Delta_n \\rvert \\leq n^{1 - \\kappa + \\delta}$$\n",
    "4. Random sample indices $\\{i_1, i_2, \\ldots, i_{\\lvert \\Delta_n \\rvert} \\}$ without replacement\n",
    "5. If $\\Delta_n > 0$ then increment $D^+_{i_j}$ by 1 for $j = 1, \\ldots, \\lvert \\Delta_n \\rvert$, otherwise increment by $D^-_{i_j}$ for $j = 1, \\ldots, \\lvert \\Delta_n \\rvert$"
   ]
  },
  {
   "cell_type": "code",
   "execution_count": 2,
   "metadata": {},
   "outputs": [],
   "source": [
    "def sample_degree_sequence(in_out_degrees, n, kappa = 1/2, delta = 1/10, require_graphical = False):\n",
    "    \"\"\"\n",
    "    Given a sampler for i.i.d. in and out degrees, this generates a degree sequence of length n\n",
    "    such that the total in and out degree is equal.\n",
    "    \n",
    "    Parameters:\n",
    "    in_out_degrees (function): A function which takes n and returns a length n in-degree array\n",
    "                               and a length n out-degree array \n",
    "    (int): The length of the degree sequence to sample    \n",
    "    kappa (float): A constant relating to how many moments the degree distribution has\n",
    "    delta (float): A tolerance parameter\n",
    "    require_graphical (boolean): If true then the sequence is repeatedly sampled until it is graphical\n",
    "    \n",
    "    Returns:\n",
    "    in_degrees (numpy array): A in-degree array of length n\n",
    "    out_degrees: A out-degree array of length n\n",
    "    \"\"\"\n",
    "    \n",
    "    repeat_till_graphical = True\n",
    "    \n",
    "    while repeat_till_graphical:\n",
    "    \n",
    "        almost_balanced = False\n",
    "\n",
    "        while not almost_balanced:\n",
    "            in_degrees, out_degrees = in_out_degrees(n)\n",
    "\n",
    "            degree_difference = np.sum(in_degrees - out_degrees)\n",
    "\n",
    "            almost_balanced = (np.abs(degree_difference) <= np.power(n, 1 - kappa + delta))\n",
    "\n",
    "        fill_indices = np.random.choice(n, np.abs(degree_difference), replace=False)\n",
    "\n",
    "        for i in fill_indices:\n",
    "            if degree_difference >= 0:\n",
    "                out_degrees[i] += 1\n",
    "            else:\n",
    "                in_degrees[i] += 1\n",
    "                \n",
    "        repeat_till_graphical = require_graphical and not nx.is_digraphical(in_degrees, out_degrees)\n",
    "            \n",
    "    return in_degrees, out_degrees"
   ]
  },
  {
   "cell_type": "markdown",
   "metadata": {},
   "source": [
    "The networkX package provides the function for generating the directed configuration model given a degree sequence. This is obtained by uniformly pairing off the in and out half edges. There are then two approaches to getting a simple graph. The first is the repeated DCM. In this method we just repeat the procedure until the resulting graph is simple. Mathematically this has the effect of conditioning that the pairing gives a simple graph.\n",
    "\n",
    "Not all degree sequences can generate a simple graph though, we call the ones that do graphical. A necessary and sufficient condition for a degree sequence to be graphical is\n",
    "\n",
    "1. $\\sum_{i=1}^n D^-_i = \\sum_{i=1}^n D^+_i$,\n",
    "2. and $\\sum_{i=1}^n \\min\\{D^+_i, \\lvert A - \\{v_i\\} \\rvert\\} \\geq \\sum_{v_i \\in A} D^-_i$ for any $A \\subset V$.\n",
    "\n",
    "The second approach is to just erase all loops and collapse all multi-edges. This will alter the degree sequence but is algorithmically very efficient."
   ]
  },
  {
   "cell_type": "code",
   "execution_count": 3,
   "metadata": {},
   "outputs": [],
   "source": [
    "def repeated_dcm(degree_sequence):\n",
    "    \"\"\"\n",
    "    Generates a multigraph by repeating the repeatedly sampling a DCM until the graph is simple\n",
    "    \"\"\"\n",
    "    \n",
    "    # checking if sequence is graphical\n",
    "    if not nx.is_digraphical(in_degrees, out_degrees):\n",
    "        raise InputError(\"Running repeated DCM with a non-graphical sequence\")\n",
    "    \n",
    "    is_simple = False\n",
    "    \n",
    "    while not is_simple:\n",
    "        G =  nx.directed_configuration_model(in_degrees, out_degrees)\n",
    "        is_simple\n",
    "        \n",
    "    return G\n",
    "\n",
    "def erased_dcm(degree_sequence):\n",
    "    \"\"\"\n",
    "    Generates a multigraph by sampling a DCM and collapsing multiedges and removing loops\n",
    "    \"\"\"\n",
    "    \n",
    "    G = nx.directed_configuration_model(in_degrees, out_degrees)\n",
    "    \n",
    "    G = nx.DiGraph(D) # collapsing multiedges\n",
    "    G.removed_edges_from(nx.selfloop_edges(G)) # removing loops\n",
    "    \n",
    "    return G"
   ]
  },
  {
   "cell_type": "markdown",
   "metadata": {},
   "source": [
    "We define ways of sampling a critical in-degree out-degree pair with a specified correlation $\\rho = \\text{Corr}(D^-, D^+)$.\n",
    "\n",
    "- If $\\rho = 0$ then take $D^- \\sim \\text{Poisson}(1)$ and $D^+ \\sim \\text{Poisson(1)}$ independently.\n",
    "\n",
    "- If $\\rho \\in \\left(0, \\frac{1}{2}\\right)$ then set\n",
    "$$ k = \\frac{1-2\\rho}{\\rho}, \\quad \\theta = \\frac{\\rho}{1-\\rho}. $$\n",
    "Sample $\\Lambda \\sim \\text{Gamma}(k, \\theta)$ (using a scale parametrisation, not rate). Conditional on $\\Lambda$ sample $D^- \\sim \\text{Poisson}(\\Lambda)$ and $D^+ \\sim \\text{Poisson}(\\Lambda)$ independently.\n",
    "\n",
    "- If $\\rho \\in (-1, 0)$ then let\n",
    "$$ L = \\frac{2}{1 + \\rho}, \\quad \\alpha = -\\frac{1}{2} \\frac{1 + \\rho}{\\rho}. $$\n",
    "Sample $\\Lambda \\sim \\text{Beta}(\\alpha, \\alpha)$. conditional on $\\Lambda$ sample $D^- \\sim \\text{Poisson}(L \\Lambda)$ and $D^+ \\sim \\text{Poisson}(L(1 - \\Lambda))$ indepedently."
   ]
  },
  {
   "cell_type": "code",
   "execution_count": 4,
   "metadata": {},
   "outputs": [],
   "source": [
    "def poisson_degrees(n, rho):\n",
    "    \"\"\"\n",
    "    Given a correlation rho, generates a i.i.d. sequence of in and out degrees satisfiying the\n",
    "    criticality condition with correlation rho.\n",
    "    \"\"\"\n",
    "    if rho == 0:\n",
    "        in_rate = 1\n",
    "        out_rate = 1\n",
    "\n",
    "    if 0 < rho and rho < 0.5:\n",
    "        k = (1 - 2 * rho) / rho\n",
    "        theta = rho / (1 - rho)\n",
    "        Lambda = np.random.gamma(k, theta, n)\n",
    "\n",
    "        in_rate = Lambda\n",
    "        out_rate = Lambda\n",
    "\n",
    "    if -1 < rho and rho < 0:\n",
    "        L = 2 / (1 + rho)\n",
    "        alpha = -0.5 * (1 + rho) / rho\n",
    "        Lambda = np.random.beta(alpha, alpha, n)\n",
    "        \n",
    "        in_rate = L * Lambda\n",
    "        out_rate = L * (1 - Lambda)\n",
    "\n",
    "    return np.random.poisson(in_rate, n), np.random.poisson(out_rate, n)\n",
    "            "
   ]
  },
  {
   "cell_type": "code",
   "execution_count": 22,
   "metadata": {},
   "outputs": [
    {
     "name": "stdout",
     "output_type": "stream",
     "text": [
      "Mean in-degree: 0.749550\n",
      "Mean out-degree: 0.750360\n",
      "Mean of product: 0.747990\n",
      "Correlation: 0.199632\n"
     ]
    }
   ],
   "source": [
    "# testing poisson_degrees gives a critical sequence with the correct correlation\n",
    "\n",
    "n = 100000\n",
    "corr = 0.2 # change me and check the empircal means and corr looks right\n",
    "\n",
    "in_degrees, out_degrees = poisson_degrees(n, corr)\n",
    "\n",
    "print(\"Mean in-degree: {0:f}\".format(np.mean(in_degrees)))\n",
    "print(\"Mean out-degree: {0:f}\".format(np.mean(out_degrees)))\n",
    "print(\"Mean of product: {0:f}\".format(np.mean(in_degrees * out_degrees)))\n",
    "print(\"Correlation: {0:f}\".format(np.corrcoef(in_degrees, out_degrees)[1, 0]))"
   ]
  },
  {
   "cell_type": "markdown",
   "metadata": {},
   "source": [
    "For convenience let's define a function for sampling a directed Erdős-Reniy graph."
   ]
  },
  {
   "cell_type": "code",
   "execution_count": 9,
   "metadata": {},
   "outputs": [],
   "source": [
    "def directed_gnp(n, p):\n",
    "    \"\"\"\n",
    "    Samples the directed Erdos Renyi model on n vertices where each directed edge is present\n",
    "    independently with probability p.\n",
    "    \"\"\"\n",
    "\n",
    "    forward_graph = nx.fast_gnp_random_graph(n, p)\n",
    "    backward_graph = nx.fast_gnp_random_graph(n, p)\n",
    "    \n",
    "    G = nx.DiGraph()\n",
    "    \n",
    "    for (v, w) in forward_graph.edges:\n",
    "        [x, y] = sorted([v, w])\n",
    "        G.add_edge(x, y)\n",
    "        \n",
    "    for (v, w) in backward_graph.edges:\n",
    "        [y, x] = sorted([v, w])\n",
    "        G.add_edge(x, y)\n",
    "        \n",
    "    return G"
   ]
  },
  {
   "cell_type": "markdown",
   "metadata": {},
   "source": [
    "Firstly we plot a histogram for the size of the largest scc."
   ]
  },
  {
   "cell_type": "code",
   "execution_count": 15,
   "metadata": {},
   "outputs": [
    {
     "data": {
      "image/png": "[encoded data removed]",
      "text/plain": [
       "<Figure size 576x1080 with 3 Axes>"
      ]
     },
     "metadata": {
      "needs_background": "light"
     },
     "output_type": "display_data"
    }
   ],
   "source": [
    "# parameters\n",
    "\n",
    "tries = 100\n",
    "n = 1000\n",
    "corr_list = [-0.3, 0, 0.3]\n",
    "\n",
    "# setting up axes\n",
    "fig, [ax1, ax2, ax3] = plt.subplots(3, 1, figsize=(8, 15))\n",
    "\n",
    "# simulation and plotting\n",
    "for corr, ax in zip(corr_list, [ax1, ax2, ax3]):\n",
    "    largest_scc_size_list = []\n",
    "\n",
    "    for _ in range(tries):\n",
    "        # sampling the configuration model\n",
    "        in_degrees, out_degrees = sample_degree_sequence(lambda n: poisson_degrees(n, corr), n)\n",
    "        G = nx.directed_configuration_model(in_degrees, out_degrees)\n",
    "        \n",
    "        # finding largest scc\n",
    "        largest_scc = max(nx.strongly_connected_components(G), key = len)\n",
    "        \n",
    "        # recording size of largest scc\n",
    "        largest_scc_size_list.append(len(largest_scc))\n",
    "    \n",
    "    # plotting the histogram\n",
    "    ax.hist(largest_scc_size_list, bins=range(max(largest_scc_size_list)))"
   ]
  },
  {
   "cell_type": "markdown",
   "metadata": {},
   "source": [
    "Next we try drawing the largest scc."
   ]
  },
  {
   "cell_type": "code",
   "execution_count": 19,
   "metadata": {},
   "outputs": [
    {
     "data": {
      "image/png": "[encoded data removed]",
      "text/plain": [
       "<Figure size 432x288 with 1 Axes>"
      ]
     },
     "metadata": {},
     "output_type": "display_data"
    }
   ],
   "source": [
    "# parameters\n",
    "\n",
    "n = 10000\n",
    "corr = -0.8\n",
    "\n",
    "# sampling directed configuration model\n",
    "in_degrees, out_degrees = sample_degree_sequence(lambda n: poisson_degrees(n, corr), n)\n",
    "G = nx.directed_configuration_model(in_degrees, out_degrees)\n",
    "\n",
    "# finding the largest scc\n",
    "largest_scc_vertices = max(nx.strongly_connected_components(G), key = len)\n",
    "largest_scc = G.subgraph(largest_scc_vertices)\n",
    "\n",
    "nx.draw_kamada_kawai(largest_scc, node_size=100)"
   ]
  }
 ],
 "metadata": {
  "kernelspec": {
   "display_name": "Python 3",
   "language": "python",
   "name": "python3"
  },
  "language_info": {
   "codemirror_mode": {
    "name": "ipython",
    "version": 3
   },
   "file_extension": ".py",
   "mimetype": "text/x-python",
   "name": "python",
   "nbconvert_exporter": "python",
   "pygments_lexer": "ipython3",
   "version": "3.8.3"
  }
 },
 "nbformat": 4,
 "nbformat_minor": 4
}
